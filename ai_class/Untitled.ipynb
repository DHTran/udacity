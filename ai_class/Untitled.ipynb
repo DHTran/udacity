{
 "cells": [
  {
   "cell_type": "code",
   "execution_count": 7,
   "metadata": {},
   "outputs": [],
   "source": [
    "from time import time, sleep\n",
    "import argparse\n"
   ]
  },
  {
   "cell_type": "code",
   "execution_count": 9,
   "metadata": {},
   "outputs": [
    {
     "name": "stdout",
     "output_type": "stream",
     "text": [
      "Pipfile         Pipfile.lock    Untitled.ipynb  \u001b[34mpet_images\u001b[m\u001b[m/\r\n"
     ]
    }
   ],
   "source": [
    "ls"
   ]
  },
  {
   "cell_type": "code",
   "execution_count": 8,
   "metadata": {},
   "outputs": [],
   "source": [
    "parser = argparse.ArgumentParser()"
   ]
  },
  {
   "cell_type": "code",
   "execution_count": 13,
   "metadata": {},
   "outputs": [
    {
     "data": {
      "text/plain": [
       "_StoreAction(option_strings=[], dest='Image folder', nargs=None, const=None, default=None, type=None, choices=None, help=\"Image Folder as --dir with default value 'pet_images'\", metavar=None)"
      ]
     },
     "execution_count": 13,
     "metadata": {},
     "output_type": "execute_result"
    }
   ],
   "source": [
    "parser.add_argument('Image folder', help = \"Image Folder as --dir with default value 'pet_images'\")"
   ]
  },
  {
   "cell_type": "code",
   "execution_count": 14,
   "metadata": {},
   "outputs": [
    {
     "data": {
      "text/plain": [
       "_StoreAction(option_strings=[], dest='model architecture', nargs=None, const=None, default=None, type=None, choices=None, help=\"CNN Model Architecture as --arch with default value 'vgg'\", metavar=None)"
      ]
     },
     "execution_count": 14,
     "metadata": {},
     "output_type": "execute_result"
    }
   ],
   "source": [
    "parser.add_argument('model architecture', \n",
    "                        help = \"CNN Model Architecture as --arch with default value 'vgg'\")"
   ]
  },
  {
   "cell_type": "code",
   "execution_count": 15,
   "metadata": {},
   "outputs": [
    {
     "data": {
      "text/plain": [
       "_StoreAction(option_strings=[], dest='text file', nargs=None, const=None, default=None, type=None, choices=None, help=\"Text File with Dog Names as --dogfile with default value 'dognames.txt'\", metavar=None)"
      ]
     },
     "execution_count": 15,
     "metadata": {},
     "output_type": "execute_result"
    }
   ],
   "source": [
    "parser.add_argument('text file', \n",
    "                        help = \"Text File with Dog Names as --dogfile with default value 'dognames.txt'\")"
   ]
  },
  {
   "cell_type": "code",
   "execution_count": 16,
   "metadata": {},
   "outputs": [],
   "source": [
    "def get_input_args():\n",
    "    \"\"\"\n",
    "    Retrieves and parses the 3 command line arguments provided by the user when\n",
    "    they run the program from a terminal window. This function uses Python's \n",
    "    argparse module to created and defined these 3 command line arguments. If \n",
    "    the user fails to provide some or all of the 3 arguments, then the default \n",
    "    values are usedb for the missing arguments. \n",
    "    Command Line Arguments:\n",
    "      1. Image Folder as --dir with default value 'pet_images'\n",
    "      2. CNN Model Architecture as --arch with default value 'vgg'\n",
    "      3. Text File with Dog Names as --dogfile with default value 'dognames.txt'\n",
    "    This function returns these arguments as an ArgumentParser object.\n",
    "    Parameters:\n",
    "     None - simply using argparse module to create & store command line arguments\n",
    "    Returns:\n",
    "     parse_args() -data structure that stores the command line arguments object  \n",
    "    \"\"\"\n",
    "    # Create Parse using ArgumentParser\n",
    "    parser = argparse.ArgumentParser()\n",
    "    # Create 3 command line arguments as mentioned above using add_argument() from ArguementParser method\n",
    "    parser.add_argument('Image Folder', \n",
    "                        help = \"Image Folder as --dir with default value 'pet_images'\")\n",
    "    parser.add_argument('model architecture', \n",
    "                        help = \"CNN Model Architecture as --arch with default value 'vgg'\")\n",
    "    parser.add_argument('text file', \n",
    "                        help = \"Text File with Dog Names as --dogfile with default value 'dognames.txt'\") \n",
    "    # Replace None with parser.parse_args() parsed argument collection that \n",
    "    # you created with this function \n",
    "    return parser.parse_args()"
   ]
  },
  {
   "cell_type": "code",
   "execution_count": 17,
   "metadata": {},
   "outputs": [
    {
     "name": "stderr",
     "output_type": "stream",
     "text": [
      "usage: ipykernel_launcher.py [-h] Image Folder model architecture text file\n",
      "ipykernel_launcher.py: error: the following arguments are required: model architecture, text file\n"
     ]
    },
    {
     "ename": "SystemExit",
     "evalue": "2",
     "output_type": "error",
     "traceback": [
      "An exception has occurred, use %tb to see the full traceback.\n",
      "\u001b[0;31mSystemExit\u001b[0m\u001b[0;31m:\u001b[0m 2\n"
     ]
    },
    {
     "name": "stderr",
     "output_type": "stream",
     "text": [
      "/Users/dht/.local/share/virtualenvs/ai_class-1ef4fuuD/lib/python3.6/site-packages/IPython/core/interactiveshell.py:3275: UserWarning: To exit: use 'exit', 'quit', or Ctrl-D.\n",
      "  warn(\"To exit: use 'exit', 'quit', or Ctrl-D.\", stacklevel=1)\n"
     ]
    }
   ],
   "source": [
    "in_arg = get_input_args()"
   ]
  },
  {
   "cell_type": "code",
   "execution_count": 19,
   "metadata": {},
   "outputs": [
    {
     "name": "stdout",
     "output_type": "stream",
     "text": [
      "Pipfile         Pipfile.lock    Untitled.ipynb  \u001b[34mpet_images\u001b[m\u001b[m/\r\n"
     ]
    }
   ],
   "source": [
    "ls"
   ]
  }
 ],
 "metadata": {
  "kernelspec": {
   "display_name": "Python 3",
   "language": "python",
   "name": "python3"
  },
  "language_info": {
   "codemirror_mode": {
    "name": "ipython",
    "version": 3
   },
   "file_extension": ".py",
   "mimetype": "text/x-python",
   "name": "python",
   "nbconvert_exporter": "python",
   "pygments_lexer": "ipython3",
   "version": "3.6.5"
  }
 },
 "nbformat": 4,
 "nbformat_minor": 2
}
